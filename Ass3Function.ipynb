{
  "nbformat": 4,
  "nbformat_minor": 0,
  "metadata": {
    "colab": {
      "provenance": []
    },
    "kernelspec": {
      "name": "python3",
      "display_name": "Python 3"
    },
    "language_info": {
      "name": "python"
    }
  },
  "cells": [
    {
      "cell_type": "markdown",
      "source": [],
      "metadata": {
        "id": "6D4D61WngkJT"
      }
    },
    {
      "cell_type": "code",
      "source": [
        "\n",
        "\n",
        "\"\"\"01. What is the difference between a function and a method in Python?\n",
        "Theory:\n",
        "In Python, the core difference between a function and a method lies in their association with objects.\n",
        "\n",
        "Function: A function is a block of reusable code that is independent of any object. It can be defined and called on its own.\n",
        "\n",
        "Method: A method is a function that is associated with an object (or a class). It is defined within a class and operates on instances (objects) of that class. Methods inherently take the instance itself as their first argument (conventionally named self for instance methods, or cls for class methods)\"\"\"\n",
        "# Function\n",
        "def greet(name):\n",
        "    return f\"Hello, {name}!\"\n",
        "\n",
        "print(greet(\"Alice\")) # Calling the function directly\n",
        "\n",
        "# Method\n",
        "class Dog:\n",
        "    def __init__(self, name, breed):\n",
        "        self.name = name\n",
        "        self.breed = breed\n",
        "\n",
        "    def bark(self): # bark is a method of the Dog class\n",
        "        return f\"{self.name} says Woof!\"\n",
        "\n",
        "my_dog = Dog(\"Buddy\", \"Golden Retriever\")\n",
        "print(my_dog.bark()) # Calling the method on an object (my_dog)"
      ],
      "metadata": {
        "colab": {
          "base_uri": "https://localhost:8080/"
        },
        "id": "nvgXllH0gohM",
        "outputId": "b855f361-e2d5-413a-c064-d9ea2f1324f9"
      },
      "execution_count": 1,
      "outputs": [
        {
          "output_type": "stream",
          "name": "stdout",
          "text": [
            "Hello, Alice!\n",
            "Buddy says Woof!\n"
          ]
        }
      ]
    },
    {
      "cell_type": "code",
      "source": [
        "\"\"\"2. Explain the concept of function arguments and parameters in Python.\n",
        "Theory:\n",
        "While often used interchangeably in casual conversation, \"parameters\" and \"arguments\" have distinct meanings in the context of functions:\n",
        "\n",
        "Parameters: These are the names listed in the function definition. They act as placeholders for the values that the function expects to receive when it's called. Parameters are part of the function's signature.\n",
        "\n",
        "Arguments: These are the actual values that are passed to the function when it is called. Arguments are assigned to the corresponding parameters inside the function's scope\"\"\"\n",
        "def add_numbers(x, y): # x and y are parameters\n",
        "    \"\"\"\n",
        "    This function adds two numbers.\n",
        "    \"\"\"\n",
        "    return x + y\n",
        "\n",
        "result = add_numbers(5, 3) # 5 and 3 are arguments\n",
        "print(f\"The sum is: {result}\")\n",
        "\n",
        "# Another example with default parameters and arguments\n",
        "def describe_person(name, age, city=\"Unknown\"): # name, age, city are parameters; city has a default value\n",
        "    return f\"{name} is {age} years old and lives in {city}.\"\n",
        "\n",
        "print(describe_person(\"Bob\", 30)) # \"Bob\" and 30 are arguments for name and age, city uses default\n",
        "print(describe_person(\"Carol\", 25, \"London\")) # \"Carol\", 25, \"London\" are arguments for name, age, and city"
      ],
      "metadata": {
        "colab": {
          "base_uri": "https://localhost:8080/"
        },
        "id": "NMN0kQGdhs6G",
        "outputId": "0c075fd0-064d-4ed3-d0da-e42ec1b5271c"
      },
      "execution_count": 2,
      "outputs": [
        {
          "output_type": "stream",
          "name": "stdout",
          "text": [
            "The sum is: 8\n",
            "Bob is 30 years old and lives in Unknown.\n",
            "Carol is 25 years old and lives in London.\n"
          ]
        }
      ]
    },
    {
      "cell_type": "code",
      "source": [
        "\"\"\"03.What are the different ways to define and call a function in Python?\n",
        "Theory:\n",
        "This question was thoroughly answered in the initial response, but I'll provide a concise summary and another example for completeness.\n",
        "\n",
        "Ways to Define a Function:\n",
        "\n",
        "def keyword (standard definition): The most common way to define a named function.\n",
        "\n",
        "lambda keyword (anonymous function): For small, single-expression functions.\n",
        "\n",
        "Ways to Call a Function:\n",
        "\n",
        "Positional Arguments: Arguments are matched to parameters by their order.\n",
        "\n",
        "Keyword Arguments: Arguments are matched to parameters by their name, allowing for flexible order.\n",
        "\n",
        "Default Arguments: Parameters with predefined values that can be overridden.\n",
        "\n",
        "Variable-Length Positional Arguments (*args): To accept an arbitrary number of positional arguments.\n",
        "\n",
        "Variable-Length Keyword Arguments (**kwargs): To accept an arbitrary number of keyword arguments.\"\"\"\n",
        "\n",
        "# Defining a function with different features\n",
        "def process_data(data_list, operation=\"sum\", factor=1, **options):\n",
        "    \"\"\"\n",
        "    Processes a list of numbers based on specified operations and options.\n",
        "    \"\"\"\n",
        "    if operation == \"sum\":\n",
        "        result = sum(data_list) * factor\n",
        "    elif operation == \"multiply\":\n",
        "        result = 1\n",
        "        for item in data_list:\n",
        "            result *= item\n",
        "        result *= factor\n",
        "    else:\n",
        "        result = \"Unsupported operation\"\n",
        "\n",
        "    if options.get('verbose', False):\n",
        "        print(f\"Processed with operation: {operation}, factor: {factor}\")\n",
        "        print(f\"Additional options: {options}\")\n",
        "\n",
        "    return result\n",
        "\n",
        "# Calling the function in different ways\n",
        "\n",
        "# 1. Positional arguments (default operation=\"sum\", factor=1)\n",
        "print(f\"Sum (positional): {process_data([1, 2, 3])}\") # Output: 6\n",
        "\n",
        "# 2. Keyword arguments (specifying operation and factor)\n",
        "print(f\"Multiply (keyword): {process_data(data_list=[1, 2, 3], operation='multiply', factor=2)}\") # Output: 12\n",
        "\n",
        "# 3. Mixed positional and keyword arguments\n",
        "print(f\"Sum with factor (mixed): {process_data([10, 20], factor=0.5)}\") # Output: 15.0\n",
        "\n",
        "# 4. Using variable keyword arguments (**kwargs)\n",
        "print(f\"Verbose sum: {process_data([1, 2, 3], verbose=True, debug_mode=True)}\")\n",
        "# Output:\n",
        "# Processed with operation: sum, factor: 1\n",
        "# Additional options: {'verbose': True, 'debug_mode': True}\n",
        "# 6\n",
        "\n",
        "# Lambda function definition and call\n",
        "square = lambda x: x * x\n",
        "print(f\"Square of 5 (lambda): {square(5)}\") # Output: 25"
      ],
      "metadata": {
        "id": "4O2VVJVbik0p",
        "colab": {
          "base_uri": "https://localhost:8080/"
        },
        "outputId": "2771eccf-9887-4491-a586-e0d0dadabd0d"
      },
      "execution_count": 5,
      "outputs": [
        {
          "output_type": "stream",
          "name": "stdout",
          "text": [
            "Sum (positional): 6\n",
            "Multiply (keyword): 12\n",
            "Sum with factor (mixed): 15.0\n",
            "Processed with operation: sum, factor: 1\n",
            "Additional options: {'verbose': True, 'debug_mode': True}\n",
            "Verbose sum: 6\n",
            "Square of 5 (lambda): 25\n"
          ]
        }
      ]
    },
    {
      "cell_type": "code",
      "source": [
        "\"\"\"04. What is the purpose of the return statement in a Python function?\n",
        "Theory:\n",
        "The return statement in a Python function serves two primary purposes:\n",
        "\n",
        "Exiting the Function: When return is encountered, the function immediately stops its execution. Any code following the return statement within that function will not be executed.\n",
        "\n",
        "Sending Back a Value: It allows a function to send a result back to the caller. The value specified after return becomes the output of the function call. If no value is specified after return (i.e., just return), or if return is omitted entirely, the function implicitly returns None.\"\"\"\n",
        "\n",
        "def divide(numerator, denominator):\n",
        "    if denominator == 0:\n",
        "        print(\"Error: Cannot divide by zero!\")\n",
        "        return None # Return None to indicate an error/invalid operation\n",
        "    else:\n",
        "        return numerator / denominator # Return the computed value\n",
        "\n",
        "def greet_user(name):\n",
        "    print(f\"Hello, {name}!\")\n",
        "    # No return statement, implicitly returns None\n",
        "\n",
        "# Using a function with return value\n",
        "result1 = divide(10, 2)\n",
        "print(f\"Result 1: {result1}\") # Output: Result 1: 5.0\n",
        "\n",
        "result2 = divide(10, 0)\n",
        "print(f\"Result 2: {result2}\") # Output: Error: Cannot divide by zero! \\n Result 2: None\n",
        "\n",
        "# Using a function without explicit return value\n",
        "greeting_output = greet_user(\"David\")\n",
        "print(f\"Greeting output: {greeting_output}\") # Output: Hello, David! \\n Greeting output: None\n",
        "\n"
      ],
      "metadata": {
        "colab": {
          "base_uri": "https://localhost:8080/"
        },
        "id": "6WAsM_RU89aU",
        "outputId": "23bf2126-2be8-437d-946e-8bf762087c63"
      },
      "execution_count": 6,
      "outputs": [
        {
          "output_type": "stream",
          "name": "stdout",
          "text": [
            "Result 1: 5.0\n",
            "Error: Cannot divide by zero!\n",
            "Result 2: None\n",
            "Hello, David!\n",
            "Greeting output: None\n"
          ]
        }
      ]
    },
    {
      "cell_type": "code",
      "source": [
        "\"\"\" What are iterators in Python and how do they differ from iterables?\n",
        "Theory:\n",
        "\n",
        "Iterable: An iterable is any Python object that can be \"iterated over\" (i.e., you can loop through its elements). This means it's an object from which an iterator can be obtained. Examples include lists, tuples, strings, dictionaries, sets, and custom objects that implement the __iter__() method. The __iter__() method returns an iterator.\n",
        "\n",
        "Iterator: An iterator is an object that represents a stream of data. It remembers its state (where it is in the iteration process) and provides a way to access elements one by one. An iterator must implement two methods:\n",
        "\n",
        "__iter__(): Returns the iterator object itself (allowing iterators to be iterables as well).\n",
        "\n",
        "__next__(): Returns the next item from the sequence. If there are no more items, it raises a StopIteration exception.\n",
        "\n",
        "Difference:\n",
        "The key difference is that an iterable is something you can loop over, while an iterator is the object that does the actual looping (keeps track of progress). You get an iterator from an iterable.\n",
        "\n",
        "Think of it like this:\n",
        "\n",
        "An iterable is a book (you can read it, page by page).\n",
        "\n",
        "An iterator is a bookmark (it tells you which page you're on and allows you to move to the next page).\"\"\"\n",
        "\n",
        "my_list = [10, 20, 30] # my_list is an iterable\n",
        "\n",
        "# Getting an iterator from an iterable\n",
        "my_iterator = iter(my_list) # my_iterator is an iterator\n",
        "\n",
        "print(f\"First element: {next(my_iterator)}\") # Output: First element: 10\n",
        "print(f\"Second element: {next(my_iterator)}\") # Output: Second element: 20\n",
        "print(f\"Third element: {next(my_iterator)}\") # Output: Third element: 30\n",
        "\n",
        "try:\n",
        "    print(f\"Fourth element: {next(my_iterator)}\") # This will raise StopIteration\n",
        "except StopIteration:\n",
        "    print(\"No more elements in the iterator.\")\n",
        "\n",
        "# A for loop implicitly uses iterators:\n",
        "print(\"\\nLooping through list (uses iterators implicitly):\")\n",
        "for item in my_list: # The for loop gets an iterator from my_list and calls next()\n",
        "    print(item)"
      ],
      "metadata": {
        "colab": {
          "base_uri": "https://localhost:8080/"
        },
        "id": "wTTJOYvn9eT0",
        "outputId": "2ce1f36b-80a0-4fdd-8966-db480b58e902"
      },
      "execution_count": 7,
      "outputs": [
        {
          "output_type": "stream",
          "name": "stdout",
          "text": [
            "First element: 10\n",
            "Second element: 20\n",
            "Third element: 30\n",
            "No more elements in the iterator.\n",
            "\n",
            "Looping through list (uses iterators implicitly):\n",
            "10\n",
            "20\n",
            "30\n"
          ]
        }
      ]
    },
    {
      "cell_type": "code",
      "source": [
        "\"\"\"05.Explain the concept of generators in Python and how they are defined.\n",
        "Theory:\n",
        "Generators are a special type of iterable that allow you to create iterators in a more concise and memory-efficient way. Instead of building and returning an entire list or sequence in memory all at once (like a regular function might), a generator function \"generates\" values one at a time, on-the-fly, as they are requested.\n",
        "\n",
        "Key Characteristics:\n",
        "\n",
        "Lazy Evaluation: They produce items only when requested, saving memory for very large or infinite sequences.\n",
        "\n",
        "State Suspension: When a yield statement is encountered, the generator's state is frozen. Execution resumes from that exact point the next time next() is called on the generator.\n",
        "\n",
        "How they are defined:\n",
        "Generator functions are defined like regular functions using the def keyword, but instead of using a return statement to send back a single value and terminate, they use the yield keyword to yield a series of values. Each yield pauses the function's execution and sends a value to the caller. When next() is called again, the function resumes from where it left off.\"\"\"\n",
        "\n",
        "# Defining a generator function\n",
        "def countdown(n):\n",
        "    print(\"Starting countdown...\")\n",
        "    while n > 0:\n",
        "        yield n # Yield a value, pause execution\n",
        "        n -= 1\n",
        "    print(\"Countdown finished!\")\n",
        "\n",
        "# Creating a generator object\n",
        "counter = countdown(3)\n",
        "print(f\"Type of counter: {type(counter)}\") # Output: <class 'generator'>\n",
        "\n",
        "# Getting values one by one using next()\n",
        "print(f\"Next value: {next(counter)}\") # Output: Starting countdown... \\n Next value: 3\n",
        "print(f\"Next value: {next(counter)}\") # Output: Next value: 2\n",
        "print(f\"Next value: {next(counter)}\") # Output: Next value: 1\n",
        "\n",
        "try:\n",
        "    print(f\"Next value: {next(counter)}\") # Will raise StopIteration\n",
        "except StopIteration:\n",
        "    print(\"Generator exhausted.\") # Output: Countdown finished! \\n Generator exhausted.\n",
        "\n",
        "print(\"\\nUsing a generator in a for loop:\")\n",
        "for num in countdown(5): # The for loop handles calling next() and StopIteration\n",
        "    print(num)\n",
        "# Output:\n",
        "# Starting countdown...\n",
        "# 5\n",
        "# 4\n",
        "# 3\n",
        "# 2\n",
        "# 1\n",
        "# Countdown finished!"
      ],
      "metadata": {
        "colab": {
          "base_uri": "https://localhost:8080/"
        },
        "id": "qt8n0J-m-LA7",
        "outputId": "376d3937-d2d6-4a88-c2d8-f90b861d8303"
      },
      "execution_count": 8,
      "outputs": [
        {
          "output_type": "stream",
          "name": "stdout",
          "text": [
            "Type of counter: <class 'generator'>\n",
            "Starting countdown...\n",
            "Next value: 3\n",
            "Next value: 2\n",
            "Next value: 1\n",
            "Countdown finished!\n",
            "Generator exhausted.\n",
            "\n",
            "Using a generator in a for loop:\n",
            "Starting countdown...\n",
            "5\n",
            "4\n",
            "3\n",
            "2\n",
            "1\n",
            "Countdown finished!\n"
          ]
        }
      ]
    },
    {
      "cell_type": "code",
      "source": [
        "\"\"\"06. What are the advantages of using generators over regular functions?\n",
        "Theory:\n",
        "Generators offer several significant advantages over regular functions, especially when dealing with large datasets or infinite sequences:\n",
        "\n",
        "Memory Efficiency:\n",
        "\n",
        "Generators: Produce items one by one and don't store the entire sequence in memory. This is crucial for large datasets where storing everything would consume too much RAM or lead to memory errors.\n",
        "\n",
        "Regular Functions (returning lists/tuples): Construct the entire sequence in memory before returning it.\n",
        "\n",
        "Performance (for large datasets):\n",
        "\n",
        "Generators: Start producing values immediately. There's no initial delay for the entire sequence to be computed. This is beneficial when you only need a few items from a very long sequence.\n",
        "\n",
        "Regular Functions: Have a delay while the entire sequence is computed and stored.\n",
        "\n",
        "Lazy Evaluation:\n",
        "\n",
        "Generators: Values are computed only when they are needed. This is efficient when not all values in a sequence might be consumed.\n",
        "\n",
        "Regular Functions: All values are computed upfront, even if some are never used.\n",
        "\n",
        "Handling Infinite Sequences:\n",
        "\n",
        "Generators: Can represent infinite sequences (e.g., all natural numbers, prime numbers) because they generate values on demand and don't need to store them.\n",
        "\n",
        "Regular Functions: Cannot practically return infinite sequences as they would run out of memory.\n",
        "\n",
        "Readability and Conciseness:\n",
        "\n",
        "Generator functions often provide a more elegant and readable way to write iterators compared to manually implementing the __iter__() and __next__() methods for custom classes.\"\"\"\n",
        "\n",
        "import sys\n",
        "\n",
        "# Regular function that returns a list\n",
        "def generate_squares_list(n):\n",
        "    squares = []\n",
        "    for i in range(n):\n",
        "        squares.append(i * i)\n",
        "    return squares\n",
        "\n",
        "# Generator function\n",
        "def generate_squares_generator(n):\n",
        "    for i in range(n):\n",
        "        yield i * i\n",
        "\n",
        "# --- Usage and Comparison ---\n",
        "\n",
        "num_elements = 10**6 # One million elements\n",
        "\n",
        "# Using the regular function\n",
        "print(\"Using regular function:\")\n",
        "list_of_squares = generate_squares_list(num_elements)\n",
        "print(f\"Size of list (bytes): {sys.getsizeof(list_of_squares)}\") # Much larger size\n",
        "# print(list_of_squares[:5]) # Print first few for verification\n",
        "\n",
        "# Using the generator function\n",
        "print(\"\\nUsing generator function:\")\n",
        "generator_of_squares = generate_squares_generator(num_elements)\n",
        "print(f\"Size of generator object (bytes): {sys.getsizeof(generator_of_squares)}\") # Much smaller size\n",
        "# Note: The generator object itself is small. The values are generated one by one.\n",
        "\n",
        "# Iterate and consume some values from the generator\n",
        "print(\"First 5 squares from generator:\")\n",
        "for _ in range(5):\n",
        "    print(next(generator_of_squares))\n",
        "\n",
        "# You can iterate through the entire generator too (memory efficiently)\n",
        "# for square in generator_of_squares:\n",
        "#     pass # Do something with each square"
      ],
      "metadata": {
        "colab": {
          "base_uri": "https://localhost:8080/"
        },
        "id": "mHPcnSE1-v7U",
        "outputId": "605584c4-5033-42dd-a352-b315661c6c40"
      },
      "execution_count": 9,
      "outputs": [
        {
          "output_type": "stream",
          "name": "stdout",
          "text": [
            "Using regular function:\n",
            "Size of list (bytes): 8448728\n",
            "\n",
            "Using generator function:\n",
            "Size of generator object (bytes): 208\n",
            "First 5 squares from generator:\n",
            "0\n",
            "1\n",
            "4\n",
            "9\n",
            "16\n"
          ]
        }
      ]
    },
    {
      "cell_type": "code",
      "source": [
        "\"\"\"07. What is a lambda function in Python and when is it typically used?\n",
        "Theory:\n",
        "A lambda function (also known as an anonymous function) in Python is a small, single-expression function that doesn't require a formal def statement. It's defined using the lambda keyword.\n",
        "\n",
        "Key Characteristics:\n",
        "\n",
        "Anonymous: It doesn't have a name like regular functions defined with def.\n",
        "\n",
        "Single Expression: It can only contain a single expression, and the result of this expression is implicitly returned.\n",
        "\n",
        "Concise: Useful for short, one-off functions.\n",
        "\n",
        "When is it typically used?\n",
        "Lambda functions are most commonly used in situations where a small function is required for a short period and doesn't need to be formally defined with def. This often includes:\n",
        "\n",
        "As arguments to higher-order functions: Functions that take other functions as arguments, such as map(), filter(), sorted(), min(), max(), and key arguments in various sorting/grouping operations.\n",
        "\n",
        "For simple callbacks or event handlers: In GUI programming or similar scenarios where a quick function is needed.\n",
        "\n",
        "For creating simple closures: Though def is more common for complex closures.\"\"\"\n",
        "\n",
        "# 1. As an argument to `sorted()`\n",
        "students = [\n",
        "    {'name': 'Alice', 'score': 85},\n",
        "    {'name': 'Bob', 'score': 92},\n",
        "    {'name': 'Charlie', 'score': 78}\n",
        "]\n",
        "\n",
        "# Sort by score using a lambda function as the key\n",
        "sorted_students = sorted(students, key=lambda student: student['score'])\n",
        "print(f\"Students sorted by score: {sorted_students}\")\n",
        "\n",
        "# 2. With `map()` to apply a transformation\n",
        "numbers = [1, 2, 3, 4, 5]\n",
        "squared_numbers = list(map(lambda x: x * x, numbers))\n",
        "print(f\"Squared numbers: {squared_numbers}\")\n",
        "\n",
        "# 3. With `filter()` to select elements\n",
        "even_numbers = list(filter(lambda x: x % 2 == 0, numbers))\n",
        "print(f\"Even numbers: {even_numbers}\")\n",
        "\n",
        "# 4. Simple, immediate use\n",
        "multiply = lambda a, b: a * b\n",
        "print(f\"5 * 3 = {multiply(5, 3)}\")"
      ],
      "metadata": {
        "colab": {
          "base_uri": "https://localhost:8080/"
        },
        "id": "sl_Fz-v-_AXr",
        "outputId": "c3b7b039-b712-4b0d-ef77-956eee98e49d"
      },
      "execution_count": 10,
      "outputs": [
        {
          "output_type": "stream",
          "name": "stdout",
          "text": [
            "Students sorted by score: [{'name': 'Charlie', 'score': 78}, {'name': 'Alice', 'score': 85}, {'name': 'Bob', 'score': 92}]\n",
            "Squared numbers: [1, 4, 9, 16, 25]\n",
            "Even numbers: [2, 4]\n",
            "5 * 3 = 15\n"
          ]
        }
      ]
    },
    {
      "cell_type": "code",
      "source": [
        "\"\"\"08.Explain the purpose and usage of the map() function in Python.\n",
        "Theory:\n",
        "The map() function in Python is a built-in higher-order function that applies a given function to each item of an iterable (like a list, tuple, etc.) and returns a map object (which is an iterator) containing the results.\n",
        "\n",
        "Purpose:\n",
        "Its main purpose is to perform an element-wise transformation on an iterable without explicitly writing a for loop. It's a clean and efficient way to apply a function to every item in a sequence.\n",
        "\n",
        "Usage:\n",
        "The syntax is map(function, iterable, ...).\n",
        "\n",
        "function: The function to which each item of the iterable will be passed. This can be a regular function or a lambda function.\n",
        "\n",
        "iterable: One or more iterables whose elements will be passed as arguments to the function. If multiple iterables are provided, the function must accept that many arguments. map() stops when the shortest iterable is exhausted.\"\"\"\n",
        "\n",
        "# Example 1: Applying a function to a single list\n",
        "def double(num):\n",
        "    return num * 2\n",
        "\n",
        "numbers = [1, 2, 3, 4, 5]\n",
        "doubled_numbers_map = map(double, numbers) # Returns a map object\n",
        "print(f\"Map object: {doubled_numbers_map}\") # Output: <map object at ...>\n",
        "\n",
        "# Convert map object to a list to see the values\n",
        "doubled_numbers_list = list(doubled_numbers_map)\n",
        "print(f\"Doubled numbers (list): {doubled_numbers_list}\") # Output: [2, 4, 6, 8, 10]\n",
        "\n",
        "# Using lambda with map\n",
        "names = [\"alice\", \"bob\", \"charlie\"]\n",
        "capitalized_names = list(map(lambda name: name.capitalize(), names))\n",
        "print(f\"Capitalized names: {capitalized_names}\") # Output: ['Alice', 'Bob', 'Charlie']\n",
        "\n",
        "# Example 2: Applying a function to multiple iterables\n",
        "list1 = [1, 2, 3]\n",
        "list2 = [10, 20, 30]\n",
        "\n",
        "def add_two_numbers(a, b):\n",
        "    return a + b\n",
        "\n",
        "sums = list(map(add_two_numbers, list1, list2))\n",
        "print(f\"Sums of corresponding elements: {sums}\") # Output: [11, 22, 33]\n",
        "\n",
        "# Using a lambda with multiple iterables\n",
        "products = list(map(lambda x, y: x * y, [1, 2, 3], [4, 5, 6]))\n",
        "print(f\"Products of corresponding elements: {products}\") # Output: [4, 10, 18]"
      ],
      "metadata": {
        "colab": {
          "base_uri": "https://localhost:8080/"
        },
        "id": "PASzZU3l_MfU",
        "outputId": "4b025eb5-48d9-44eb-a21a-712bdae8fd53"
      },
      "execution_count": 11,
      "outputs": [
        {
          "output_type": "stream",
          "name": "stdout",
          "text": [
            "Map object: <map object at 0x7dc5966fb160>\n",
            "Doubled numbers (list): [2, 4, 6, 8, 10]\n",
            "Capitalized names: ['Alice', 'Bob', 'Charlie']\n",
            "Sums of corresponding elements: [11, 22, 33]\n",
            "Products of corresponding elements: [4, 10, 18]\n"
          ]
        }
      ]
    },
    {
      "cell_type": "code",
      "source": [
        "\"\"\"09.Explain the purpose and usage of the map() function in Python.\n",
        "Theory:\n",
        "The map() function in Python is a built-in higher-order function that applies a given function to each item of an iterable (like a list, tuple, etc.) and returns a map object (which is an iterator) containing the results.\n",
        "\n",
        "Purpose:\n",
        "Its main purpose is to perform an element-wise transformation on an iterable without explicitly writing a for loop. It's a clean and efficient way to apply a function to every item in a sequence.\n",
        "\n",
        "Usage:\n",
        "The syntax is map(function, iterable, ...).\n",
        "\n",
        "function: The function to which each item of the iterable will be passed. This can be a regular function or a lambda function.\n",
        "\n",
        "iterable: One or more iterables whose elements will be passed as arguments to the function. If multiple iterables are provided, the function must accept that many arguments. map() stops when the shortest iterable is exhausted.\"\"\"\n",
        "\n",
        "# Example 1: Applying a function to a single list\n",
        "def double(num):\n",
        "    return num * 2\n",
        "\n",
        "numbers = [1, 2, 3, 4, 5]\n",
        "doubled_numbers_map = map(double, numbers) # Returns a map object\n",
        "print(f\"Map object: {doubled_numbers_map}\") # Output: <map object at ...>\n",
        "\n",
        "# Convert map object to a list to see the values\n",
        "doubled_numbers_list = list(doubled_numbers_map)\n",
        "print(f\"Doubled numbers (list): {doubled_numbers_list}\") # Output: [2, 4, 6, 8, 10]\n",
        "\n",
        "# Using lambda with map\n",
        "names = [\"alice\", \"bob\", \"charlie\"]\n",
        "capitalized_names = list(map(lambda name: name.capitalize(), names))\n",
        "print(f\"Capitalized names: {capitalized_names}\") # Output: ['Alice', 'Bob', 'Charlie']\n",
        "\n",
        "# Example 2: Applying a function to multiple iterables\n",
        "list1 = [1, 2, 3]\n",
        "list2 = [10, 20, 30]\n",
        "\n",
        "def add_two_numbers(a, b):\n",
        "    return a + b\n",
        "\n",
        "sums = list(map(add_two_numbers, list1, list2))\n",
        "print(f\"Sums of corresponding elements: {sums}\") # Output: [11, 22, 33]\n",
        "\n",
        "# Using a lambda with multiple iterables\n",
        "products = list(map(lambda x, y: x * y, [1, 2, 3], [4, 5, 6]))\n",
        "print(f\"Products of corresponding elements: {products}\") # Output: [4, 10, 18]"
      ],
      "metadata": {
        "colab": {
          "base_uri": "https://localhost:8080/"
        },
        "id": "q6M14kjw_Xhr",
        "outputId": "3e51e7c6-2c0b-4e14-af89-ad627c475db8"
      },
      "execution_count": 12,
      "outputs": [
        {
          "output_type": "stream",
          "name": "stdout",
          "text": [
            "Map object: <map object at 0x7dc596718970>\n",
            "Doubled numbers (list): [2, 4, 6, 8, 10]\n",
            "Capitalized names: ['Alice', 'Bob', 'Charlie']\n",
            "Sums of corresponding elements: [11, 22, 33]\n",
            "Products of corresponding elements: [4, 10, 18]\n"
          ]
        }
      ]
    },
    {
      "cell_type": "code",
      "source": [
        "\"\"\"10.What is the difference between map(), reduce(), and filter() functions in Python?\n",
        "Theory:\n",
        "These three functions are part of Python's functional programming tools, but they serve distinct purposes:\n",
        "\n",
        "map():\n",
        "\n",
        "Purpose: To transform each item in an iterable.\n",
        "\n",
        "Output: Returns a map object (an iterator) where each item is the result of applying the given function to the corresponding item(s) from the input iterable(s).\n",
        "\n",
        "Shape Preservation: The number of items in the output is the same as the number of items in the input iterable(s).\n",
        "\n",
        "filter():\n",
        "\n",
        "Purpose: To select items from an iterable based on a condition.\n",
        "\n",
        "Output: Returns a filter object (an iterator) containing only those items for which the given function returns a True (truthy) value.\n",
        "\n",
        "Shape Reduction: The number of items in the output is usually less than or equal to the number of items in the input.\n",
        "\n",
        "reduce():\n",
        "\n",
        "Purpose: To aggregate or combine all items in an iterable into a single, cumulative result.\n",
        "\n",
        "Note: reduce() is not a built-in function in Python 3; it's part of the functools module.\n",
        "\n",
        "Output: Returns a single value.\n",
        "\n",
        "Mechanism: It applies a function of two arguments cumulatively to the items of the iterable, from left to right, so as to reduce the iterable to a single value.\"\"\"\n",
        "\n",
        "from functools import reduce\n",
        "\n",
        "numbers = [1, 2, 3, 4, 5, 6, 7, 8, 9, 10]\n",
        "\n",
        "# --- 1. map() ---\n",
        "# Double each number\n",
        "doubled_numbers = list(map(lambda x: x * 2, numbers))\n",
        "print(f\"map() - Doubled numbers: {doubled_numbers}\")\n",
        "# Output: map() - Doubled numbers: [2, 4, 6, 8, 10, 12, 14, 16, 18, 20]\n",
        "\n",
        "# --- 2. filter() ---\n",
        "# Get only even numbers\n",
        "even_numbers = list(filter(lambda x: x % 2 == 0, numbers))\n",
        "print(f\"filter() - Even numbers: {even_numbers}\")\n",
        "# Output: filter() - Even numbers: [2, 4, 6, 8, 10]\n",
        "\n",
        "# --- 3. reduce() ---\n",
        "# Calculate the sum of all numbers\n",
        "sum_of_numbers = reduce(lambda x, y: x + y, numbers)\n",
        "print(f\"reduce() - Sum of numbers: {sum_of_numbers}\")\n",
        "# Output: reduce() - Sum of numbers: 55\n",
        "\n",
        "# Calculate the product of all numbers\n",
        "product_of_numbers = reduce(lambda x, y: x * y, [1, 2, 3, 4])\n",
        "print(f\"reduce() - Product of numbers: {product_of_numbers}\")\n",
        "# Output: reduce() - Product of numbers: 24"
      ],
      "metadata": {
        "colab": {
          "base_uri": "https://localhost:8080/"
        },
        "id": "1oXmvMv1_tXK",
        "outputId": "e476775a-dcba-4c82-9624-3082ef7b3556"
      },
      "execution_count": 13,
      "outputs": [
        {
          "output_type": "stream",
          "name": "stdout",
          "text": [
            "map() - Doubled numbers: [2, 4, 6, 8, 10, 12, 14, 16, 18, 20]\n",
            "filter() - Even numbers: [2, 4, 6, 8, 10]\n",
            "reduce() - Sum of numbers: 55\n",
            "reduce() - Product of numbers: 24\n"
          ]
        }
      ]
    },
    {
      "cell_type": "code",
      "source": [
        "\"\"\"11. Using pen & Paper write the internal mechanism for sum operation using reduce function on this given list: [47, 11, 42, 13]\n",
        "Internal Mechanism for reduce(lambda x, y: x + y, [47, 11, 42, 13])\n",
        "\n",
        "Let the list be L = [47, 11, 42, 13] and the function be f(x, y) = x + y.\n",
        "\n",
        "reduce works by taking the first two elements, applying the function to them, then taking that result and the next element, applying the function again, and so on, until only one value remains.\n",
        "\n",
        "Step-by-step breakdown:\n",
        "\n",
        "Initial Call: f(L[0], L[1])\n",
        "\n",
        "f(47, 11)\n",
        "\n",
        "Result: 47 + 11 = 58\n",
        "\n",
        "*(Intermediate Result: 58, Remaining List: [42, 13])`\n",
        "\n",
        "Second Call: f(current_result, L[2])\n",
        "\n",
        "f(58, 42)\n",
        "\n",
        "Result: 58 + 42 = 100\n",
        "\n",
        "*(Intermediate Result: 100, Remaining List: [13])`\n",
        "\n",
        "Third Call: f(current_result, L[3])\n",
        "\n",
        "f(100, 13)\n",
        "\n",
        "Result: 100 + 13 = 113\n",
        "\n",
        "*(Intermediate Result: 113, Remaining List: [])`\n",
        "\n",
        "Final Result:\n",
        "Since there are no more elements in the list, reduce returns the last calculated result.\n",
        "\n",
        "Final Sum: 113\"\"\"\n",
        "\n"
      ],
      "metadata": {
        "id": "aFYpog-UAQIc"
      },
      "execution_count": null,
      "outputs": []
    },
    {
      "cell_type": "code",
      "source": [
        "#Practical Questions\n",
        "\n",
        "#1. Write a Python function that takes a list of numbers as input and returns the sum of all even numbers in the list.\n",
        "\n",
        "def sum_even_numbers(numbers_list):\n",
        "    \"\"\"\n",
        "    Calculates the sum of all even numbers in a given list.\n",
        "\n",
        "    Args:\n",
        "        numbers_list (list): A list of numbers (integers or floats).\n",
        "\n",
        "    Returns:\n",
        "        int or float: The sum of all even numbers.\n",
        "                      Returns 0 if the list is empty or contains no even numbers.\n",
        "    \"\"\"\n",
        "    total_even = 0\n",
        "    for number in numbers_list:\n",
        "        if isinstance(number, (int, float)): # Ensure it's a number\n",
        "            if number % 2 == 0:\n",
        "                total_even += number\n",
        "        else:\n",
        "            print(f\"Warning: Skipping non-numeric item '{number}' in the list.\")\n",
        "    return total_even\n",
        "\n",
        "# Test cases\n",
        "print(f\"Sum of evens in [1, 2, 3, 4, 5, 6]: {sum_even_numbers([1, 2, 3, 4, 5, 6])}\") # Output: 12\n",
        "print(f\"Sum of evens in []: {sum_even_numbers([])}\") # Output: 0\n",
        "print(f\"Sum of evens in [7, 9, 11]: {sum_even_numbers([7, 9, 11])}\") # Output: 0\n",
        "print(f\"Sum of evens in [-2, 0, 8]: {sum_even_numbers([-2, 0, 8])}\") # Output: 6\n",
        "print(f\"Sum of evens in [2.5, 4.0, 6.7, 8.0]: {sum_even_numbers([2.5, 4.0, 6.7, 8.0])}\") # Output: 12.0\n",
        "print(f\"Sum of evens in [1, 'a', 4]: {sum_even_numbers([1, 'a', 4])}\") # Output: 4 (with warning)"
      ],
      "metadata": {
        "colab": {
          "base_uri": "https://localhost:8080/"
        },
        "id": "gCZVNvn-BzzO",
        "outputId": "6cdd15cb-2b35-4f5d-e72f-ffedfc65c7e2"
      },
      "execution_count": 14,
      "outputs": [
        {
          "output_type": "stream",
          "name": "stdout",
          "text": [
            "Sum of evens in [1, 2, 3, 4, 5, 6]: 12\n",
            "Sum of evens in []: 0\n",
            "Sum of evens in [7, 9, 11]: 0\n",
            "Sum of evens in [-2, 0, 8]: 6\n",
            "Sum of evens in [2.5, 4.0, 6.7, 8.0]: 12.0\n",
            "Warning: Skipping non-numeric item 'a' in the list.\n",
            "Sum of evens in [1, 'a', 4]: 4\n"
          ]
        }
      ]
    },
    {
      "cell_type": "code",
      "source": [
        "#2. Create a Python function that accepts a string and returns the reverse of that string.\n",
        "def reverse_string(input_string):\n",
        "    \"\"\"\n",
        "    Reverses a given string.\n",
        "\n",
        "    Args:\n",
        "        input_string (str): The string to be reversed.\n",
        "\n",
        "    Returns:\n",
        "        str: The reversed string.\n",
        "    \"\"\"\n",
        "    return input_string[::-1] # Pythonic way using slicing\n",
        "\n",
        "# Alternative method (using a loop - less Pythonic for this specific task)\n",
        "def reverse_string_loop(input_string):\n",
        "    reversed_str = \"\"\n",
        "    for char in input_string:\n",
        "        reversed_str = char + reversed_str\n",
        "    return reversed_str\n",
        "\n",
        "# Test cases\n",
        "print(f\"'Hello' reversed: {reverse_string('Hello')}\") # Output: olleH\n",
        "print(f\"'Python' reversed: {reverse_string('Python')}\") # Output: nohtyP\n",
        "print(f\"'' reversed: {reverse_string('')}\") # Output: \"\"\n",
        "print(f\"'a' reversed: {reverse_string('a')}\") # Output: a\n",
        "print(f\"'madam' reversed: {reverse_string('madam')}\") # Output: madam\n",
        "\n",
        "print(f\"\\nUsing loop method:\")\n",
        "print(f\"'Hello' reversed (loop): {reverse_string_loop('Hello')}\")"
      ],
      "metadata": {
        "colab": {
          "base_uri": "https://localhost:8080/"
        },
        "id": "0QiRyYSfB_8k",
        "outputId": "852008c7-b0ec-49c1-f79e-5933c9d44f8a"
      },
      "execution_count": 15,
      "outputs": [
        {
          "output_type": "stream",
          "name": "stdout",
          "text": [
            "'Hello' reversed: olleH\n",
            "'Python' reversed: nohtyP\n",
            "'' reversed: \n",
            "'a' reversed: a\n",
            "'madam' reversed: madam\n",
            "\n",
            "Using loop method:\n",
            "'Hello' reversed (loop): olleH\n"
          ]
        }
      ]
    },
    {
      "cell_type": "code",
      "source": [
        "#3. Implement a Python function that takes a list of integers and returns a new list containing the squares of each number.\n",
        "def square_numbers_list(numbers_list):\n",
        "    \"\"\"\n",
        "    Returns a new list containing the squares of each number in the input list.\n",
        "\n",
        "    Args:\n",
        "        numbers_list (list): A list of integers or floats.\n",
        "\n",
        "    Returns:\n",
        "        list: A new list with the squared values.\n",
        "    \"\"\"\n",
        "    squared_list = []\n",
        "    for number in numbers_list:\n",
        "        if isinstance(number, (int, float)):\n",
        "            squared_list.append(number ** 2)\n",
        "        else:\n",
        "            print(f\"Warning: Skipping non-numeric item '{number}' in the list for squaring.\")\n",
        "    return squared_list\n",
        "\n",
        "# Alternative using list comprehension (more concise)\n",
        "def square_numbers_comprehension(numbers_list):\n",
        "    return [number ** 2 for number in numbers_list if isinstance(number, (int, float))]\n",
        "\n",
        "\n",
        "# Test cases\n",
        "print(f\"Squares of [1, 2, 3, 4, 5]: {square_numbers_list([1, 2, 3, 4, 5])}\") # Output: [1, 4, 9, 16, 25]\n",
        "print(f\"Squares of [-2, 0, 3]: {square_numbers_list([-2, 0, 3])}\") # Output: [4, 0, 9]\n",
        "print(f\"Squares of []: {square_numbers_list([])}\") # Output: []\n",
        "print(f\"Squares of [2.5, 3]: {square_numbers_list([2.5, 3])}\") # Output: [6.25, 9]\n",
        "print(f\"Squares of [1, 'a', 2]: {square_numbers_list([1, 'a', 2])}\") # Output: [1, 4] (with warning)\n",
        "\n",
        "print(f\"\\nUsing list comprehension method:\")\n",
        "print(f\"Squares of [1, 2, 3, 4, 5]: {square_numbers_comprehension([1, 2, 3, 4, 5])}\")"
      ],
      "metadata": {
        "colab": {
          "base_uri": "https://localhost:8080/"
        },
        "id": "ZP_gRsO0CL5T",
        "outputId": "a6f4347c-3c39-4a02-a016-ef7bec88cb8f"
      },
      "execution_count": 16,
      "outputs": [
        {
          "output_type": "stream",
          "name": "stdout",
          "text": [
            "Squares of [1, 2, 3, 4, 5]: [1, 4, 9, 16, 25]\n",
            "Squares of [-2, 0, 3]: [4, 0, 9]\n",
            "Squares of []: []\n",
            "Squares of [2.5, 3]: [6.25, 9]\n",
            "Warning: Skipping non-numeric item 'a' in the list for squaring.\n",
            "Squares of [1, 'a', 2]: [1, 4]\n",
            "\n",
            "Using list comprehension method:\n",
            "Squares of [1, 2, 3, 4, 5]: [1, 4, 9, 16, 25]\n"
          ]
        }
      ]
    },
    {
      "cell_type": "code",
      "source": [
        "#4. Write a Python function that checks if a given number is prime or not from 1 to 200.\n",
        "def is_prime(number):\n",
        "    \"\"\"\n",
        "    Checks if a given number is a prime number.\n",
        "    Works efficiently for numbers up to 200 (and beyond).\n",
        "\n",
        "    Args:\n",
        "        number (int): The number to check.\n",
        "\n",
        "    Returns:\n",
        "        bool: True if the number is prime, False otherwise.\n",
        "    \"\"\"\n",
        "    if not isinstance(number, int):\n",
        "        print(f\"Error: Input '{number}' is not an integer.\")\n",
        "        return False\n",
        "    if number <= 1:\n",
        "        return False  # Numbers less than or equal to 1 are not prime\n",
        "    if number <= 3:\n",
        "        return True   # 2 and 3 are prime\n",
        "\n",
        "    # Check if number is divisible by 2 or 3\n",
        "    if number % 2 == 0 or number % 3 == 0:\n",
        "        return False\n",
        "\n",
        "    # Check for factors from 5 onwards\n",
        "    # We only need to check up to the square root of the number\n",
        "    # And we can skip multiples of 2 and 3 by stepping by 6 (5, 7, 11, 13, ...)\n",
        "    i = 5\n",
        "    while i * i <= number:\n",
        "        if number % i == 0 or number % (i + 2) == 0:\n",
        "            return False\n",
        "        i += 6\n",
        "    return True\n",
        "\n",
        "# Test cases\n",
        "print(f\"Is 2 prime? {is_prime(2)}\")   # Output: True\n",
        "print(f\"Is 13 prime? {is_prime(13)}\") # Output: True\n",
        "print(f\"Is 1 prime? {is_prime(1)}\")   # Output: False\n",
        "print(f\"Is 4 prime? {is_prime(4)}\")   # Output: False\n",
        "print(f\"Is 17 prime? {is_prime(17)}\") # Output: True\n",
        "print(f\"Is 97 prime? {is_prime(97)}\") # Output: True\n",
        "print(f\"Is 100 prime? {is_prime(100)}\") # Output: False\n",
        "print(f\"Is 199 prime? {is_prime(199)}\") # Output: True\n",
        "print(f\"Is 200 prime? {is_prime(200)}\") # Output: False\n",
        "print(f\"Is 0 prime? {is_prime(0)}\")   # Output: False\n",
        "print(f\"Is -5 prime? {is_prime(-5)}\") # Output: False\n",
        "print(f\"Is 13.5 prime? {is_prime(13.5)}\") # Output: False (with error)\n",
        "\n",
        "print(\"\\nPrime numbers from 1 to 200:\")\n",
        "primes = [num for num in range(1, 201) if is_prime(num)]\n",
        "print(primes)"
      ],
      "metadata": {
        "colab": {
          "base_uri": "https://localhost:8080/"
        },
        "id": "4V8VnSbECap2",
        "outputId": "c736b717-abbc-4e41-f6ce-e74b0a1691d4"
      },
      "execution_count": 17,
      "outputs": [
        {
          "output_type": "stream",
          "name": "stdout",
          "text": [
            "Is 2 prime? True\n",
            "Is 13 prime? True\n",
            "Is 1 prime? False\n",
            "Is 4 prime? False\n",
            "Is 17 prime? True\n",
            "Is 97 prime? True\n",
            "Is 100 prime? False\n",
            "Is 199 prime? True\n",
            "Is 200 prime? False\n",
            "Is 0 prime? False\n",
            "Is -5 prime? False\n",
            "Error: Input '13.5' is not an integer.\n",
            "Is 13.5 prime? False\n",
            "\n",
            "Prime numbers from 1 to 200:\n",
            "[2, 3, 5, 7, 11, 13, 17, 19, 23, 29, 31, 37, 41, 43, 47, 53, 59, 61, 67, 71, 73, 79, 83, 89, 97, 101, 103, 107, 109, 113, 127, 131, 137, 139, 149, 151, 157, 163, 167, 173, 179, 181, 191, 193, 197, 199]\n"
          ]
        }
      ]
    },
    {
      "cell_type": "code",
      "source": [
        "#5. Create an iterator class in Python that generates the Fibonacci sequence up to a specified number of terms.\n",
        "class FibonacciIterator:\n",
        "    \"\"\"\n",
        "    An iterator class that generates the Fibonacci sequence up to a specified number of terms.\n",
        "    \"\"\"\n",
        "    def __init__(self, max_terms):\n",
        "        if not isinstance(max_terms, int) or max_terms < 0:\n",
        "            raise ValueError(\"max_terms must be a non-negative integer.\")\n",
        "        self.max_terms = max_terms\n",
        "        self.count = 0      # Current term number\n",
        "        self.a = 0          # First Fibonacci number\n",
        "        self.b = 1          # Second Fibonacci number\n",
        "\n",
        "    def __iter__(self):\n",
        "        \"\"\"\n",
        "        Returns the iterator object itself.\n",
        "        \"\"\"\n",
        "        return self\n",
        "\n",
        "    def __next__(self):\n",
        "        \"\"\"\n",
        "        Returns the next Fibonacci number in the sequence.\n",
        "        Raises StopIteration when the maximum number of terms is reached.\n",
        "        \"\"\"\n",
        "        if self.count >= self.max_terms:\n",
        "            raise StopIteration\n",
        "\n",
        "        if self.count == 0:\n",
        "            self.count += 1\n",
        "            return self.a\n",
        "        elif self.count == 1:\n",
        "            self.count += 1\n",
        "            return self.b\n",
        "        else:\n",
        "            next_fib = self.a + self.b\n",
        "            self.a = self.b\n",
        "            self.b = next_fib\n",
        "            self.count += 1\n",
        "            return next_fib\n",
        "\n",
        "# Test cases\n",
        "print(\"Fibonacci sequence up to 10 terms:\")\n",
        "fib_seq = FibonacciIterator(10)\n",
        "for num in fib_seq:\n",
        "    print(num, end=\" \") # Output: 0 1 1 2 3 5 8 13 21 34\n",
        "print(\"\\n\")\n",
        "\n",
        "print(\"Fibonacci sequence up to 5 terms:\")\n",
        "fib_seq_5 = FibonacciIterator(5)\n",
        "print(list(fib_seq_5)) # Output: [0, 1, 1, 2, 3]\n",
        "\n",
        "print(\"\\nFibonacci sequence for 1 term:\")\n",
        "fib_seq_1 = FibonacciIterator(1)\n",
        "print(list(fib_seq_1)) # Output: [0]\n",
        "\n",
        "print(\"\\nFibonacci sequence for 0 terms:\")\n",
        "fib_seq_0 = FibonacciIterator(0)\n",
        "print(list(fib_seq_0)) # Output: []\n",
        "\n",
        "# Demonstrating manual iteration with next()\n",
        "print(\"\\nManual iteration for 3 terms:\")\n",
        "manual_fib = FibonacciIterator(3)\n",
        "print(next(manual_fib))\n",
        "print(next(manual_fib))\n",
        "print(next(manual_fib))\n",
        "try:\n",
        "    print(next(manual_fib))\n",
        "except StopIteration:\n",
        "    print(\"End of sequence.\")"
      ],
      "metadata": {
        "colab": {
          "base_uri": "https://localhost:8080/"
        },
        "id": "2Z8R3YpRCmaf",
        "outputId": "254bf452-3fe8-4f57-aee5-f424baf534c7"
      },
      "execution_count": 18,
      "outputs": [
        {
          "output_type": "stream",
          "name": "stdout",
          "text": [
            "Fibonacci sequence up to 10 terms:\n",
            "0 1 1 2 3 5 8 13 21 34 \n",
            "\n",
            "Fibonacci sequence up to 5 terms:\n",
            "[0, 1, 1, 2, 3]\n",
            "\n",
            "Fibonacci sequence for 1 term:\n",
            "[0]\n",
            "\n",
            "Fibonacci sequence for 0 terms:\n",
            "[]\n",
            "\n",
            "Manual iteration for 3 terms:\n",
            "0\n",
            "1\n",
            "1\n",
            "End of sequence.\n"
          ]
        }
      ]
    },
    {
      "cell_type": "code",
      "source": [
        "#6. Write a generator function in Python that yields the powers of 2 up to a given exponent.\n",
        "\n",
        "def powers_of_two(max_exponent):\n",
        "    \"\"\"\n",
        "    A generator function that yields powers of 2 up to a given exponent.\n",
        "\n",
        "    Args:\n",
        "        max_exponent (int): The maximum exponent (inclusive) for the powers of 2.\n",
        "                            Must be a non-negative integer.\n",
        "\n",
        "    Yields:\n",
        "        int: The next power of 2.\n",
        "    \"\"\"\n",
        "    if not isinstance(max_exponent, int) or max_exponent < 0:\n",
        "        raise ValueError(\"max_exponent must be a non-negative integer.\")\n",
        "\n",
        "    for exponent in range(max_exponent + 1):\n",
        "        yield 2 ** exponent\n",
        "\n",
        "# Test cases\n",
        "print(\"Powers of 2 up to exponent 5:\")\n",
        "for power in powers_of_two(5):\n",
        "    print(power, end=\" \") # Output: 1 2 4 8 16 32\n",
        "print(\"\\n\")\n",
        "\n",
        "print(\"Powers of 2 up to exponent 0:\")\n",
        "for power in powers_of_two(0):\n",
        "    print(power, end=\" \") # Output: 1\n",
        "print(\"\\n\")\n",
        "\n",
        "print(\"Powers of 2 up to exponent 10 (as a list):\")\n",
        "print(list(powers_of_two(10)))\n",
        "# Output: [1, 2, 4, 8, 16, 32, 64, 128, 256, 512, 1024]\n",
        "\n",
        "# Example with a large exponent (memory efficient)\n",
        "# big_powers = powers_of_two(100)\n",
        "# print(next(big_powers))\n",
        "# print(next(big_powers))\n",
        "# ..."
      ],
      "metadata": {
        "colab": {
          "base_uri": "https://localhost:8080/"
        },
        "id": "YxSNB0mfCwhA",
        "outputId": "73dea3c7-43eb-4c14-9fff-88d2ac0221d6"
      },
      "execution_count": 19,
      "outputs": [
        {
          "output_type": "stream",
          "name": "stdout",
          "text": [
            "Powers of 2 up to exponent 5:\n",
            "1 2 4 8 16 32 \n",
            "\n",
            "Powers of 2 up to exponent 0:\n",
            "1 \n",
            "\n",
            "Powers of 2 up to exponent 10 (as a list):\n",
            "[1, 2, 4, 8, 16, 32, 64, 128, 256, 512, 1024]\n"
          ]
        }
      ]
    },
    {
      "cell_type": "code",
      "source": [
        "#7. Implement a generator function that reads a file line by line and yields each line as a string.\n",
        "\n",
        "import os\n",
        "\n",
        "def read_file_lines(filepath):\n",
        "    \"\"\"\n",
        "    A generator function that reads a file line by line and yields each line as a string.\n",
        "\n",
        "    Args:\n",
        "        filepath (str): The path to the file to read.\n",
        "\n",
        "    Yields:\n",
        "        str: Each line from the file, including the newline character if present.\n",
        "    \"\"\"\n",
        "    if not os.path.exists(filepath):\n",
        "        raise FileNotFoundError(f\"File not found: {filepath}\")\n",
        "\n",
        "    with open(filepath, 'r') as file:\n",
        "        for line in file:\n",
        "            yield line\n",
        "\n",
        "# Create a dummy file for testing\n",
        "file_content = \"\"\"Line 1: Hello Python!\n",
        "Line 2: Generators are cool.\n",
        "Line 3: This is the third line.\n",
        "Last Line.\"\"\"\n",
        "\n",
        "file_name = \"sample_data.txt\"\n",
        "with open(file_name, 'w') as f:\n",
        "    f.write(file_content)\n",
        "\n",
        "# Test cases\n",
        "print(f\"Reading lines from '{file_name}':\")\n",
        "try:\n",
        "    for line in read_file_lines(file_name):\n",
        "        print(f\"-> {line.strip()}\") # Use .strip() to remove leading/trailing whitespace including newline\n",
        "except FileNotFoundError as e:\n",
        "    print(e)\n",
        "print(\"\\nFinished reading file.\\n\")\n",
        "\n",
        "# Example of reading a non-existent file\n",
        "print(\"Attempting to read a non-existent file:\")\n",
        "try:\n",
        "    for line in read_file_lines(\"non_existent_file.txt\"):\n",
        "        print(line.strip())\n",
        "except FileNotFoundError as e:\n",
        "    print(e)\n",
        "\n",
        "# Clean up the dummy file\n",
        "os.remove(file_name)"
      ],
      "metadata": {
        "colab": {
          "base_uri": "https://localhost:8080/"
        },
        "id": "DboG6HxTC8qx",
        "outputId": "a47276ed-fc9a-4763-d5cd-a6ee88e69ccc"
      },
      "execution_count": 20,
      "outputs": [
        {
          "output_type": "stream",
          "name": "stdout",
          "text": [
            "Reading lines from 'sample_data.txt':\n",
            "-> Line 1: Hello Python!\n",
            "-> Line 2: Generators are cool.\n",
            "-> Line 3: This is the third line.\n",
            "-> Last Line.\n",
            "\n",
            "Finished reading file.\n",
            "\n",
            "Attempting to read a non-existent file:\n",
            "File not found: non_existent_file.txt\n"
          ]
        }
      ]
    },
    {
      "cell_type": "code",
      "source": [
        "#8. Use a lambda function in Python to sort a list of tuples based on the second element of each tuple.\n",
        "list_of_tuples = [('apple', 5), ('banana', 2), ('cherry', 8), ('date', 1), ('elderberry', 7)]\n",
        "\n",
        "print(f\"Original list: {list_of_tuples}\")\n",
        "\n",
        "# Sort the list of tuples based on the second element (index 1)\n",
        "# The lambda function `lambda item: item[1]` extracts the second element of each tuple.\n",
        "sorted_list = sorted(list_of_tuples, key=lambda item: item[1])\n",
        "\n",
        "print(f\"Sorted list (by second element): {sorted_list}\")\n",
        "\n",
        "# Example with different data types in the second element\n",
        "data = [('Alice', 30), ('Bob', 25), ('Charlie', 35), ('David', 20)]\n",
        "print(f\"\\nOriginal data: {data}\")\n",
        "sorted_data = sorted(data, key=lambda person: person[1])\n",
        "print(f\"Sorted data (by age): {sorted_data}\")\n",
        "\n",
        "# Example with ties (original order is preserved for ties)\n",
        "data_with_ties = [('A', 10), ('B', 5), ('C', 10), ('D', 2), ('E', 5)]\n",
        "print(f\"\\nOriginal data with ties: {data_with_ties}\")\n",
        "sorted_data_with_ties = sorted(data_with_ties, key=lambda item: item[1])\n",
        "print(f\"Sorted data with ties: {sorted_data_with_ties}\")"
      ],
      "metadata": {
        "colab": {
          "base_uri": "https://localhost:8080/"
        },
        "id": "Co1ByZMCDFiE",
        "outputId": "c5f50b9b-aade-42b2-bc83-b7f258c8d170"
      },
      "execution_count": 21,
      "outputs": [
        {
          "output_type": "stream",
          "name": "stdout",
          "text": [
            "Original list: [('apple', 5), ('banana', 2), ('cherry', 8), ('date', 1), ('elderberry', 7)]\n",
            "Sorted list (by second element): [('date', 1), ('banana', 2), ('apple', 5), ('elderberry', 7), ('cherry', 8)]\n",
            "\n",
            "Original data: [('Alice', 30), ('Bob', 25), ('Charlie', 35), ('David', 20)]\n",
            "Sorted data (by age): [('David', 20), ('Bob', 25), ('Alice', 30), ('Charlie', 35)]\n",
            "\n",
            "Original data with ties: [('A', 10), ('B', 5), ('C', 10), ('D', 2), ('E', 5)]\n",
            "Sorted data with ties: [('D', 2), ('B', 5), ('E', 5), ('A', 10), ('C', 10)]\n"
          ]
        }
      ]
    },
    {
      "cell_type": "code",
      "source": [
        "#9. Write a Python program that uses map() to convert a list of temperatures from Celsius to Fahrenheit.\n",
        "def celsius_to_fahrenheit(celsius):\n",
        "    \"\"\"\n",
        "    Converts a temperature from Celsius to Fahrenheit.\n",
        "    \"\"\"\n",
        "    return (celsius * 9/5) + 32\n",
        "\n",
        "celsius_temperatures = [0, 10, 20, 30, 37, 100, -5]\n",
        "\n",
        "print(f\"Original Celsius temperatures: {celsius_temperatures}\")\n",
        "\n",
        "# Use map() with the celsius_to_fahrenheit function\n",
        "# map() returns a map object, so we convert it to a list for printing\n",
        "fahrenheit_temperatures = list(map(celsius_to_fahrenheit, celsius_temperatures))\n",
        "\n",
        "print(f\"Fahrenheit temperatures: {fahrenheit_temperatures}\")\n",
        "\n",
        "# Example using a lambda function directly with map()\n",
        "celsius_temps_alt = [5, 15, 25]\n",
        "fahrenheit_temps_lambda = list(map(lambda c: (c * 9/5) + 32, celsius_temps_alt))\n",
        "print(f\"\\nCelsius temperatures (alt): {celsius_temps_alt}\")\n",
        "print(f\"Fahrenheit temperatures (lambda): {fahrenheit_temps_lambda}\")"
      ],
      "metadata": {
        "colab": {
          "base_uri": "https://localhost:8080/"
        },
        "id": "w2YSOznYDKM3",
        "outputId": "e5e0f4c0-b519-4b60-9891-3bfefe6040d9"
      },
      "execution_count": 22,
      "outputs": [
        {
          "output_type": "stream",
          "name": "stdout",
          "text": [
            "Original Celsius temperatures: [0, 10, 20, 30, 37, 100, -5]\n",
            "Fahrenheit temperatures: [32.0, 50.0, 68.0, 86.0, 98.6, 212.0, 23.0]\n",
            "\n",
            "Celsius temperatures (alt): [5, 15, 25]\n",
            "Fahrenheit temperatures (lambda): [41.0, 59.0, 77.0]\n"
          ]
        }
      ]
    },
    {
      "cell_type": "code",
      "source": [
        "#10. Create a Python program that uses filter() to remove all the vowels from a given string.\n",
        "def remove_vowels(input_string):\n",
        "    \"\"\"\n",
        "    Removes all vowels (case-insensitive) from a given string.\n",
        "    \"\"\"\n",
        "    vowels = \"aeiouAEIOU\"\n",
        "\n",
        "    # Use filter() with a lambda function\n",
        "    # The lambda function returns True for characters that are NOT vowels,\n",
        "    # effectively keeping them.\n",
        "    filtered_chars = filter(lambda char: char not in vowels, input_string)\n",
        "\n",
        "    # Join the filtered characters back into a string\n",
        "    return \"\".join(filtered_chars)\n",
        "\n",
        "# Test cases\n",
        "my_string1 = \"Hello World\"\n",
        "print(f\"Original string: '{my_string1}'\")\n",
        "print(f\"String without vowels: '{remove_vowels(my_string1)}'\")\n",
        "# Expected Output: Hll Wrld\n",
        "\n",
        "my_string2 = \"Programming is fun in Python\"\n",
        "print(f\"\\nOriginal string: '{my_string2}'\")\n",
        "print(f\"String without vowels: '{remove_vowels(my_string2)}'\")\n",
        "# Expected Output: Prgrmmng s fn n Pythn\n",
        "\n",
        "my_string3 = \"AEIOUaeiou\"\n",
        "print(f\"\\nOriginal string: '{my_string3}'\")\n",
        "print(f\"String without vowels: '{remove_vowels(my_string3)}'\")\n",
        "# Expected Output: ''\n",
        "\n",
        "my_string4 = \"Rhythm\"\n",
        "print(f\"\\nOriginal string: '{my_string4}'\")\n",
        "print(f\"String without vowels: '{remove_vowels(my_string4)}'\")\n",
        "# Expected Output: Rhythm\n",
        "\n",
        "my_string5 = \"\"\n",
        "print(f\"\\nOriginal string: '{my_string5}'\")\n",
        "print(f\"String without vowels: '{remove_vowels(my_string5)}'\")\n",
        "# Expected Output: ''"
      ],
      "metadata": {
        "colab": {
          "base_uri": "https://localhost:8080/"
        },
        "id": "SORqI3mADbPq",
        "outputId": "69d4ba16-413f-4227-95e0-77e02e8bc0f9"
      },
      "execution_count": 23,
      "outputs": [
        {
          "output_type": "stream",
          "name": "stdout",
          "text": [
            "Original string: 'Hello World'\n",
            "String without vowels: 'Hll Wrld'\n",
            "\n",
            "Original string: 'Programming is fun in Python'\n",
            "String without vowels: 'Prgrmmng s fn n Pythn'\n",
            "\n",
            "Original string: 'AEIOUaeiou'\n",
            "String without vowels: ''\n",
            "\n",
            "Original string: 'Rhythm'\n",
            "String without vowels: 'Rhythm'\n",
            "\n",
            "Original string: ''\n",
            "String without vowels: ''\n"
          ]
        }
      ]
    },
    {
      "cell_type": "code",
      "source": [
        "\"\"\" Imagine an accounting routine used in a book shop. It works on a list with sublists, which look like this:\n",
        "\n",
        "Write a Python program, which returns a list with 2-tuples. Each tuple consists of the order number and the\n",
        "product of the price per item and the quantity. The product should be increased by 10,- € if the value of the\n",
        "order is smaller than 100,00 €.\"\"\"\n",
        "\n",
        "def calculate_order_values(book_orders):\n",
        "    \"\"\"\n",
        "    Processes a list of book orders and returns a list of 2-tuples.\n",
        "    Each tuple contains the order number and the calculated total price for the order.\n",
        "    The total price is quantity * price_per_item, with an additional 10 EUR bonus\n",
        "    if the order value is less than 100 EUR.\n",
        "\n",
        "    Args:\n",
        "        book_orders (list): A list of sublists, where each sublist represents an order\n",
        "                            in the format [OrderNumber, BookTitleAndAuthor, Quantity, PricePerItem].\n",
        "\n",
        "    Returns:\n",
        "        list: A list of 2-tuples, each (Order Number, Calculated Order Price).\n",
        "    \"\"\"\n",
        "    result = []\n",
        "    for order in book_orders:\n",
        "        order_number = order[0]\n",
        "        quantity = order[2]\n",
        "        price_per_item = order[3]\n",
        "\n",
        "        # Calculate the base product\n",
        "        product = quantity * price_per_item\n",
        "\n",
        "        # Apply the bonus if the order value is smaller than 100 EUR\n",
        "        if product < 100.00:\n",
        "            product += 10.00\n",
        "\n",
        "        # Append the (order number, calculated product) tuple to the result list\n",
        "        result.append((order_number, product))\n",
        "    return result\n",
        "\n",
        "# Example data based on the image provided\n",
        "book_shop_data = [\n",
        "    [34587, \"Learning Python, Mark Lutz\", 4, 40.95],\n",
        "    [98762, \"Programming Python, Mark Lutz\", 5, 56.80],\n",
        "    [77226, \"Head First Python, Paul Barry\", 3, 32.95],\n",
        "    [88112, \"Einführung in Python3, Bernd Klein\", 3, 24.99]\n",
        "]\n",
        "\n",
        "# Calculate the order values\n",
        "processed_orders = calculate_order_values(book_shop_data)\n",
        "\n",
        "# Print the results\n",
        "print(\"Processed Orders (Order Number, Calculated Price):\")\n",
        "for order_tuple in processed_orders:\n",
        "    # Format the price to two decimal places for currency display\n",
        "    print(f\"Order: {order_tuple[0]}, Price: {order_tuple[1]:.2f} €\")\n",
        "\n",
        "# Verification of calculations:\n",
        "# Order 34587: 4 * 40.95 = 163.80.  (>= 100, no bonus) -> 163.80\n",
        "# Order 98762: 5 * 56.80 = 284.00.  (>= 100, no bonus) -> 284.00\n",
        "# Order 77226: 3 * 32.95 = 98.85.   (< 100, +10 bonus) -> 108.85\n",
        "# Order 88112: 3 * 24.99 = 74.97.   (< 100, +10 bonus) -> 84.97"
      ],
      "metadata": {
        "colab": {
          "base_uri": "https://localhost:8080/"
        },
        "id": "rtWJVKUuD0HL",
        "outputId": "395f1d47-4237-40fe-ee00-53d2f51ddad6"
      },
      "execution_count": 27,
      "outputs": [
        {
          "output_type": "stream",
          "name": "stdout",
          "text": [
            "Processed Orders (Order Number, Calculated Price):\n",
            "Order: 34587, Price: 163.80 €\n",
            "Order: 98762, Price: 284.00 €\n",
            "Order: 77226, Price: 108.85 €\n",
            "Order: 88112, Price: 84.97 €\n"
          ]
        }
      ]
    }
  ]
}