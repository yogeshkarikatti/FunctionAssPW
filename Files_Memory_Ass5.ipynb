{
  "nbformat": 4,
  "nbformat_minor": 0,
  "metadata": {
    "colab": {
      "provenance": []
    },
    "kernelspec": {
      "name": "python3",
      "display_name": "Python 3"
    },
    "language_info": {
      "name": "python"
    }
  },
  "cells": [
    {
      "cell_type": "code",
      "execution_count": 5,
      "metadata": {
        "colab": {
          "base_uri": "https://localhost:8080/",
          "height": 228
        },
        "id": "6zqTq7IWDMAu",
        "outputId": "657bb639-ed5f-46d2-f8af-0bd282292d97"
      },
      "outputs": [
        {
          "output_type": "stream",
          "name": "stdout",
          "text": [
            "Error: invalid literal for int() with base 10: 'abc'\n"
          ]
        },
        {
          "output_type": "error",
          "ename": "FileNotFoundError",
          "evalue": "[Errno 2] No such file or directory: 'D:\\\\P_W\\\\data'",
          "traceback": [
            "\u001b[0;31m---------------------------------------------------------------------------\u001b[0m",
            "\u001b[0;31mFileNotFoundError\u001b[0m                         Traceback (most recent call last)",
            "\u001b[0;32m/tmp/ipython-input-3187854899.py\u001b[0m in \u001b[0;36m<cell line: 0>\u001b[0;34m()\u001b[0m\n\u001b[1;32m     52\u001b[0m \u001b[0;31m#Ensures files are automatically closed after use, even if errors occur.\u001b[0m\u001b[0;34m\u001b[0m\u001b[0;34m\u001b[0m\u001b[0m\n\u001b[1;32m     53\u001b[0m \u001b[0;34m\u001b[0m\u001b[0m\n\u001b[0;32m---> 54\u001b[0;31m \u001b[0;32mwith\u001b[0m \u001b[0mopen\u001b[0m\u001b[0;34m(\u001b[0m\u001b[0;34m\"D:\\P_W\\data\"\u001b[0m\u001b[0;34m)\u001b[0m \u001b[0;32mas\u001b[0m \u001b[0mf\u001b[0m\u001b[0;34m:\u001b[0m\u001b[0;34m\u001b[0m\u001b[0;34m\u001b[0m\u001b[0m\n\u001b[0m\u001b[1;32m     55\u001b[0m     \u001b[0mcontent\u001b[0m \u001b[0;34m=\u001b[0m \u001b[0mf\u001b[0m\u001b[0;34m.\u001b[0m\u001b[0mread\u001b[0m\u001b[0;34m(\u001b[0m\u001b[0;34m)\u001b[0m\u001b[0;34m\u001b[0m\u001b[0;34m\u001b[0m\u001b[0m\n\u001b[1;32m     56\u001b[0m \u001b[0;34m\u001b[0m\u001b[0m\n",
            "\u001b[0;31mFileNotFoundError\u001b[0m: [Errno 2] No such file or directory: 'D:\\\\P_W\\\\data'"
          ]
        }
      ],
      "source": [
        "'''1. Difference between interpreted and compiled languages\n",
        "\n",
        "Interpreted languages (e.g., Python, JavaScript) execute code line by line at runtime via an interpreter.\n",
        "\n",
        "Easier to debug, platform-independent, but slower.\n",
        "\n",
        "Compiled languages (e.g., C, C++) translate source code into machine code before execution.\n",
        "\n",
        "Faster execution, but less flexible for quick edits.\n",
        "\n",
        "2. Exception handling in Python\n",
        "\n",
        "A mechanism to gracefully handle runtime errors without stopping program execution.\n",
        "\n",
        "Achieved using try, except, else, finally blocks.\n",
        "\n",
        "3. Purpose of the finally block\n",
        "\n",
        "Code inside finally always runs, whether an exception occurs or not.\n",
        "\n",
        "Used for cleanup tasks like closing files or releasing resources.\n",
        "\n",
        "4. Logging in Python\n",
        "\n",
        "Built-in module for recording program events (errors, warnings, info) to console or files.\n",
        "\n",
        "Helps in debugging and monitoring applications.\n",
        "\n",
        "5. Significance of the __del__ method\n",
        "\n",
        "Destructor method called when an object is deleted or garbage-collected.\n",
        "\n",
        "Used for resource cleanup, though relying on it is discouraged.\n",
        "\n",
        "6. Difference between import and from ... import\n",
        "\n",
        "import module → you access members via module.member.\n",
        "\n",
        "from module import member → you can use member directly.'''\n",
        "\n",
        "#7. Handling multiple exceptions\n",
        "\n",
        "try:\n",
        "    x = int(\"abc\")\n",
        "    y = 10 / 0\n",
        "except (ValueError, ZeroDivisionError) as e:\n",
        "    print(\"Error:\", e)\n",
        "\n",
        "\n",
        "#8. Purpose of with statement in file handling\n",
        "\n",
        "#Ensures files are automatically closed after use, even if errors occur.\n",
        "\n",
        "with open(\"D:\\P_W\\data\") as f:\n",
        "    content = f.read()\n",
        "\n",
        "\n",
        "'''9. Difference between multithreading and multiprocessing\n",
        "\n",
        "Multithreading: Multiple threads share the same memory space (good for I/O-bound tasks).\n",
        "\n",
        "Multiprocessing: Multiple processes with separate memory (good for CPU-bound tasks).\n",
        "\n",
        "10. Advantages of logging\n",
        "\n",
        "Persistent record of events.\n",
        "\n",
        "Helps in debugging without stopping program execution.\n",
        "\n",
        "Can be set to different levels of importance.\n",
        "\n",
        "11. Memory management in Python\n",
        "\n",
        "Done automatically via reference counting and garbage collection.\n",
        "\n",
        "Python allocates/deallocates memory as needed.\n",
        "\n",
        "12. Basic steps in exception handling\n",
        "\n",
        "Wrap risky code in try block.\n",
        "\n",
        "Handle errors in except block.\n",
        "\n",
        "(Optional) Use else for code that runs only if no error.\n",
        "\n",
        "(Optional) Use finally for cleanup.\n",
        "\n",
        "13. Why memory management is important\n",
        "\n",
        "Prevents memory leaks.\n",
        "\n",
        "Improves performance.\n",
        "\n",
        "Avoids program crashes.\n",
        "\n",
        "14. Role of try and except\n",
        "\n",
        "try: Code that might raise an error.\n",
        "\n",
        "except: Code that runs if an error occurs.\n",
        "\n",
        "15. Python's garbage collection system\n",
        "\n",
        "Tracks object references.\n",
        "\n",
        "Deletes objects when reference count hits zero.\n",
        "\n",
        "Cyclic garbage collector handles reference loops.\n",
        "\n",
        "16. Purpose of else block in exception handling\n",
        "\n",
        "Runs only if the try block has no exceptions.\n",
        "\n",
        "17. Common logging levels\n",
        "\n",
        "DEBUG, INFO, WARNING, ERROR, CRITICAL.\n",
        "\n",
        "18. Difference between os.fork() and multiprocessing\n",
        "\n",
        "os.fork() → Unix-only, creates child process.\n",
        "\n",
        "multiprocessing → Cross-platform, higher-level API for creating processes.\n",
        "\n",
        "19. Importance of closing a file\n",
        "\n",
        "Frees system resources.\n",
        "\n",
        "Prevents data corruption.\n",
        "\n",
        "20. Difference between file.read() and file.readline()\n",
        "\n",
        "read() → Reads entire file or specified bytes.\n",
        "\n",
        "readline() → Reads a single line at a time.\n",
        "\n",
        "21. Logging module in Python\n",
        "\n",
        "Used for structured logging with timestamps, levels, and message formatting.\n",
        "\n",
        "22. os module in file handling\n",
        "\n",
        "Provides file/directory operations like rename, remove, check existence.\n",
        "\n",
        "23. Challenges in memory management\n",
        "\n",
        "Reference cycles.\n",
        "\n",
        "Memory fragmentation.\n",
        "\n",
        "Managing large datasets efficiently.\n",
        "\n",
        "24. Raising an exception manually\n",
        "\n",
        "raise ValueError(\"Invalid value!\")\n",
        "\n",
        "\n",
        "25. Importance of multithreading in some apps\n",
        "\n",
        "Improves responsiveness.\n",
        "\n",
        "Handles I/O-bound tasks efficiently.'''"
      ]
    },
    {
      "cell_type": "code",
      "source": [
        "#1. Open a file for writing and write a string\n",
        "\n",
        "with open(\"output.txt\", \"w\") as f:\n",
        "    f.write(\"Hello, this is a test string.\")"
      ],
      "metadata": {
        "id": "igYHsG2PIEXA"
      },
      "execution_count": 9,
      "outputs": []
    },
    {
      "cell_type": "code",
      "source": [
        "#2. Read the contents of a file and print each line\n",
        "\n",
        "with open(\"output.txt\", \"r\") as f:\n",
        "    for line in f:\n",
        "        print(line.strip())"
      ],
      "metadata": {
        "id": "oNZ8cZKqK8vU"
      },
      "execution_count": null,
      "outputs": []
    },
    {
      "cell_type": "code",
      "source": [],
      "metadata": {
        "id": "WuG-Hkm0LLV7"
      },
      "execution_count": null,
      "outputs": []
    },
    {
      "cell_type": "code",
      "source": [
        "#3. Handle file not found error\n",
        "\n",
        "try:\n",
        "    with open(\"non_existent.txt\", \"r\") as f:\n",
        "        print(f.read())\n",
        "except FileNotFoundError:\n",
        "    print(\"Error: File does not exist.\")"
      ],
      "metadata": {
        "colab": {
          "base_uri": "https://localhost:8080/"
        },
        "id": "VKi2iEebLEsc",
        "outputId": "cfb63ad3-f8d0-4189-839a-86401bf227fa"
      },
      "execution_count": 10,
      "outputs": [
        {
          "output_type": "stream",
          "name": "stdout",
          "text": [
            "Error: File does not exist.\n"
          ]
        }
      ]
    },
    {
      "cell_type": "code",
      "source": [
        "#4. Read from one file and write to another\n",
        "\n",
        "with open(\"source.txt\", \"r\") as src, open(\"dest.txt\", \"w\") as dst:\n",
        "    dst.write(src.read())"
      ],
      "metadata": {
        "colab": {
          "base_uri": "https://localhost:8080/",
          "height": 193
        },
        "id": "Ll-ZPZTELPuJ",
        "outputId": "7779675c-b7ed-442d-e072-9bf3b4f5b292"
      },
      "execution_count": 11,
      "outputs": [
        {
          "output_type": "error",
          "ename": "FileNotFoundError",
          "evalue": "[Errno 2] No such file or directory: 'source.txt'",
          "traceback": [
            "\u001b[0;31m---------------------------------------------------------------------------\u001b[0m",
            "\u001b[0;31mFileNotFoundError\u001b[0m                         Traceback (most recent call last)",
            "\u001b[0;32m/tmp/ipython-input-1664328048.py\u001b[0m in \u001b[0;36m<cell line: 0>\u001b[0;34m()\u001b[0m\n\u001b[1;32m      1\u001b[0m \u001b[0;31m#4. Read from one file and write to another\u001b[0m\u001b[0;34m\u001b[0m\u001b[0;34m\u001b[0m\u001b[0m\n\u001b[1;32m      2\u001b[0m \u001b[0;34m\u001b[0m\u001b[0m\n\u001b[0;32m----> 3\u001b[0;31m \u001b[0;32mwith\u001b[0m \u001b[0mopen\u001b[0m\u001b[0;34m(\u001b[0m\u001b[0;34m\"source.txt\"\u001b[0m\u001b[0;34m,\u001b[0m \u001b[0;34m\"r\"\u001b[0m\u001b[0;34m)\u001b[0m \u001b[0;32mas\u001b[0m \u001b[0msrc\u001b[0m\u001b[0;34m,\u001b[0m \u001b[0mopen\u001b[0m\u001b[0;34m(\u001b[0m\u001b[0;34m\"dest.txt\"\u001b[0m\u001b[0;34m,\u001b[0m \u001b[0;34m\"w\"\u001b[0m\u001b[0;34m)\u001b[0m \u001b[0;32mas\u001b[0m \u001b[0mdst\u001b[0m\u001b[0;34m:\u001b[0m\u001b[0;34m\u001b[0m\u001b[0;34m\u001b[0m\u001b[0m\n\u001b[0m\u001b[1;32m      4\u001b[0m     \u001b[0mdst\u001b[0m\u001b[0;34m.\u001b[0m\u001b[0mwrite\u001b[0m\u001b[0;34m(\u001b[0m\u001b[0msrc\u001b[0m\u001b[0;34m.\u001b[0m\u001b[0mread\u001b[0m\u001b[0;34m(\u001b[0m\u001b[0;34m)\u001b[0m\u001b[0;34m)\u001b[0m\u001b[0;34m\u001b[0m\u001b[0;34m\u001b[0m\u001b[0m\n",
            "\u001b[0;31mFileNotFoundError\u001b[0m: [Errno 2] No such file or directory: 'source.txt'"
          ]
        }
      ]
    },
    {
      "cell_type": "code",
      "source": [
        "#5. Handle division by zero\n",
        "\n",
        "try:\n",
        "    result = 10 / 0\n",
        "except ZeroDivisionError:\n",
        "    print(\"Cannot divide by zero!\")\n"
      ],
      "metadata": {
        "colab": {
          "base_uri": "https://localhost:8080/"
        },
        "id": "Hovng0lwLV2z",
        "outputId": "f46195c8-4291-4cee-fdd2-a9bb4856fee9"
      },
      "execution_count": 12,
      "outputs": [
        {
          "output_type": "stream",
          "name": "stdout",
          "text": [
            "Cannot divide by zero!\n"
          ]
        }
      ]
    },
    {
      "cell_type": "code",
      "source": [
        "#6. Log error when division by zero occurs\n",
        "\n",
        "import logging\n",
        "logging.basicConfig(filename=\"errors.log\", level=logging.ERROR)\n",
        "\n",
        "try:\n",
        "    result = 10 / 0\n",
        "except ZeroDivisionError as e:\n",
        "    logging.error(\"Division by zero error: %s\", e)\n"
      ],
      "metadata": {
        "colab": {
          "base_uri": "https://localhost:8080/"
        },
        "id": "nZeNWwCtLd0y",
        "outputId": "952c486e-d7fa-4664-e2c7-76ad2efd146d"
      },
      "execution_count": 13,
      "outputs": [
        {
          "output_type": "stream",
          "name": "stderr",
          "text": [
            "ERROR:root:Division by zero error: division by zero\n"
          ]
        }
      ]
    },
    {
      "cell_type": "code",
      "source": [
        "#7. Log at different levels\n",
        "\n",
        "import logging\n",
        "logging.basicConfig(level=logging.DEBUG)\n",
        "\n",
        "logging.info(\"This is an info message.\")\n",
        "logging.warning(\"This is a warning.\")\n",
        "logging.error(\"This is an error.\")"
      ],
      "metadata": {
        "colab": {
          "base_uri": "https://localhost:8080/"
        },
        "id": "UWETvZMiLiIe",
        "outputId": "14aa07ef-d8a4-409d-9a3b-c6b63defdd23"
      },
      "execution_count": 14,
      "outputs": [
        {
          "output_type": "stream",
          "name": "stderr",
          "text": [
            "WARNING:root:This is a warning.\n",
            "ERROR:root:This is an error.\n"
          ]
        }
      ]
    },
    {
      "cell_type": "code",
      "source": [
        "#8. Handle file opening error\n",
        "\n",
        "try:\n",
        "    with open(\"data.txt\") as f:\n",
        "        print(f.read())\n",
        "except IOError as e:\n",
        "    print(\"File handling error:\", e)"
      ],
      "metadata": {
        "colab": {
          "base_uri": "https://localhost:8080/"
        },
        "id": "mRPNiBBJLvwG",
        "outputId": "29259b60-313c-4de1-cd7f-eb8f4213c04e"
      },
      "execution_count": 15,
      "outputs": [
        {
          "output_type": "stream",
          "name": "stdout",
          "text": [
            "File handling error: [Errno 2] No such file or directory: 'data.txt'\n"
          ]
        }
      ]
    },
    {
      "cell_type": "code",
      "source": [
        "#9. Read file line by line into a list\n",
        "\n",
        "with open(\"output.txt\", \"r\") as f:\n",
        "    lines = [line.strip() for line in f]\n",
        "print(lines)"
      ],
      "metadata": {
        "id": "MQLY1R1aL1ki"
      },
      "execution_count": null,
      "outputs": []
    },
    {
      "cell_type": "code",
      "source": [
        "#10. Append data to an existing file\n",
        "\n",
        "with open(\"output.txt\", \"a\") as f:\n",
        "    f.write(\"\\nAdditional text appended.\")\n"
      ],
      "metadata": {
        "id": "TwRnN5I4MBQq"
      },
      "execution_count": null,
      "outputs": []
    },
    {
      "cell_type": "code",
      "source": [
        "#11. Handle missing dictionary key\n",
        "\n",
        "data = {\"name\": \"John\"}\n",
        "try:\n",
        "    print(data[\"age\"])\n",
        "except KeyError:\n",
        "    print(\"Key not found!\")\n"
      ],
      "metadata": {
        "colab": {
          "base_uri": "https://localhost:8080/"
        },
        "id": "ySiuUYx7MFWY",
        "outputId": "3587800c-ba66-4221-d731-272348e0add2"
      },
      "execution_count": 17,
      "outputs": [
        {
          "output_type": "stream",
          "name": "stdout",
          "text": [
            "Key not found!\n"
          ]
        }
      ]
    },
    {
      "cell_type": "code",
      "source": [
        "#12. Multiple except blocks\n",
        "\n",
        "try:\n",
        "    num = int(\"abc\")\n",
        "    result = 10 / 0\n",
        "except ValueError:\n",
        "    print(\"Invalid number format!\")\n",
        "except ZeroDivisionError:\n",
        "    print(\"Division by zero!\")"
      ],
      "metadata": {
        "colab": {
          "base_uri": "https://localhost:8080/"
        },
        "id": "5Gchz_1zMJ2L",
        "outputId": "d2b64e12-e907-459f-cec8-2f0762902dbd"
      },
      "execution_count": 16,
      "outputs": [
        {
          "output_type": "stream",
          "name": "stdout",
          "text": [
            "Invalid number format!\n"
          ]
        }
      ]
    },
    {
      "cell_type": "code",
      "source": [
        "#13. Check if file exists before reading\n",
        "\n",
        "import os\n",
        "if os.path.exists(\"output.txt\"):\n",
        "    with open(\"output.txt\") as f:\n",
        "        print(f.read())\n",
        "else:\n",
        "    print(\"File does not exist.\")\n"
      ],
      "metadata": {
        "colab": {
          "base_uri": "https://localhost:8080/"
        },
        "id": "UM_Ik2fUMLxg",
        "outputId": "12ca3337-a24c-42c2-9797-655150595e88"
      },
      "execution_count": 24,
      "outputs": [
        {
          "output_type": "stream",
          "name": "stdout",
          "text": [
            "Hello, this is a test string.\n"
          ]
        }
      ]
    },
    {
      "cell_type": "code",
      "source": [
        "#14. Log info and error messages\n",
        "\n",
        "import logging\n",
        "logging.basicConfig(filename=\"app.log\", level=logging.DEBUG)\n",
        "\n",
        "logging.info(\"Program started.\")\n",
        "try:\n",
        "    1 / 0\n",
        "except ZeroDivisionError:\n",
        "    logging.error(\"Division by zero occurred.\")"
      ],
      "metadata": {
        "colab": {
          "base_uri": "https://localhost:8080/"
        },
        "id": "g--2cS9XMVtj",
        "outputId": "169a549e-1f3d-408b-d8d1-29370708a2b7"
      },
      "execution_count": 19,
      "outputs": [
        {
          "output_type": "stream",
          "name": "stderr",
          "text": [
            "ERROR:root:Division by zero occurred.\n"
          ]
        }
      ]
    },
    {
      "cell_type": "code",
      "source": [
        "#15. Print file content and handle empty file\n",
        "\n",
        "with open(\"output.txt\", \"r\") as f:\n",
        "    content = f.read()\n",
        "    if content:\n",
        "        print(content)\n",
        "    else:\n",
        "        print(\"File is empty.\")\n"
      ],
      "metadata": {
        "colab": {
          "base_uri": "https://localhost:8080/"
        },
        "id": "rPZij4XZMdGg",
        "outputId": "23bf8dca-74ba-4f36-e8d8-5e378a8e0bf5"
      },
      "execution_count": 23,
      "outputs": [
        {
          "output_type": "stream",
          "name": "stdout",
          "text": [
            "Hello, this is a test string.\n"
          ]
        }
      ]
    },
    {
      "cell_type": "code",
      "source": [
        "##16. Memory profiling\n",
        "\n",
        "# Install memory_profiler first: pip install memory_profiler\n",
        "from memory_profiler import profile\n",
        "\n",
        "@profile\n",
        "def test():\n",
        "    x = [i for i in range(1000000)]\n",
        "    return sum(x)\n",
        "\n",
        "test()\n"
      ],
      "metadata": {
        "id": "TCsegiu5MwCt"
      },
      "execution_count": null,
      "outputs": []
    },
    {
      "cell_type": "code",
      "source": [
        "#17. Write list of numbers to a file\n",
        "\n",
        "numbers = [1, 2, 3, 4, 5]\n",
        "with open(\"numbers.txt\", \"w\") as f:\n",
        "    for num in numbers:\n",
        "        f.write(f\"{num}\\n\")\n"
      ],
      "metadata": {
        "id": "PLlPXi7PNCsN"
      },
      "execution_count": 26,
      "outputs": []
    },
    {
      "cell_type": "code",
      "source": [
        "#18. Logging with rotation\n",
        "\n",
        "import logging\n",
        "from logging.handlers import RotatingFileHandler\n",
        "\n",
        "handler = RotatingFileHandler(\"rotating.log\", maxBytes=1_000_000, backupCount=3)\n",
        "logging.basicConfig(handlers=[handler], level=logging.INFO)\n",
        "\n",
        "logging.info(\"This is a rotating log example.\")\n"
      ],
      "metadata": {
        "id": "y0jLtigBNI8-"
      },
      "execution_count": 27,
      "outputs": []
    },
    {
      "cell_type": "code",
      "source": [
        "#19. Handle both IndexError and KeyError\n",
        "\n",
        "try:\n",
        "    mylist = [1, 2]\n",
        "    print(mylist[5])\n",
        "    mydict = {}\n",
        "    print(mydict[\"key\"])\n",
        "except (IndexError, KeyError) as e:\n",
        "    print(\"Caught exception:\", e)\n"
      ],
      "metadata": {
        "colab": {
          "base_uri": "https://localhost:8080/"
        },
        "id": "zkZJyaB3NOOO",
        "outputId": "19026d4f-f44b-4e05-b906-fc13bfd91849"
      },
      "execution_count": 28,
      "outputs": [
        {
          "output_type": "stream",
          "name": "stdout",
          "text": [
            "Caught exception: list index out of range\n"
          ]
        }
      ]
    },
    {
      "cell_type": "code",
      "source": [
        "#20. Read file with context manager\n",
        "\n",
        "with open(\"output.txt\", \"r\") as f:\n",
        "    print(f.read())"
      ],
      "metadata": {
        "colab": {
          "base_uri": "https://localhost:8080/"
        },
        "id": "FyXaAJrZNTzv",
        "outputId": "31b560cc-b167-4fc8-c75f-0cb973c066b0"
      },
      "execution_count": 29,
      "outputs": [
        {
          "output_type": "stream",
          "name": "stdout",
          "text": [
            "Hello, this is a test string.\n"
          ]
        }
      ]
    },
    {
      "cell_type": "code",
      "source": [
        "#21. Count occurrences of a word\n",
        "\n",
        "word = \"test\"\n",
        "with open(\"output.txt\", \"r\") as f:\n",
        "    content = f.read()\n",
        "count = content.count(word)\n",
        "print(f\"'{word}' occurs {count} times.\")\n"
      ],
      "metadata": {
        "colab": {
          "base_uri": "https://localhost:8080/"
        },
        "id": "s7RLtiKcNa4X",
        "outputId": "84b43f4d-a533-4d21-82b8-a52f496c390d"
      },
      "execution_count": 30,
      "outputs": [
        {
          "output_type": "stream",
          "name": "stdout",
          "text": [
            "'test' occurs 1 times.\n"
          ]
        }
      ]
    },
    {
      "cell_type": "code",
      "source": [
        "#22. Check if file is empty\n",
        "\n",
        "import os\n",
        "if os.path.getsize(\"output.txt\") == 0:\n",
        "    print(\"File is empty.\")\n",
        "else:\n",
        "    print(\"File has content.\")\n"
      ],
      "metadata": {
        "colab": {
          "base_uri": "https://localhost:8080/"
        },
        "id": "V74Y5uX9Ng_h",
        "outputId": "c82b9aeb-4f44-4ae1-9c87-c1cfe184f86a"
      },
      "execution_count": 31,
      "outputs": [
        {
          "output_type": "stream",
          "name": "stdout",
          "text": [
            "File has content.\n"
          ]
        }
      ]
    },
    {
      "cell_type": "code",
      "source": [
        "#23. Log error during file handling\n",
        "\n",
        "import logging\n",
        "logging.basicConfig(filename=\"file_errors.log\", level=logging.ERROR)\n",
        "\n",
        "try:\n",
        "    with open(\"nonexistent.txt\") as f:\n",
        "        print(f.read())\n",
        "except FileNotFoundError as e:\n",
        "    logging.error(\"File error: %s\", e)"
      ],
      "metadata": {
        "colab": {
          "base_uri": "https://localhost:8080/"
        },
        "id": "iZcRGreHNo84",
        "outputId": "bcb9665a-8a0c-4abf-f38b-b0ec4b970fe8"
      },
      "execution_count": 32,
      "outputs": [
        {
          "output_type": "stream",
          "name": "stderr",
          "text": [
            "ERROR:root:File error: [Errno 2] No such file or directory: 'nonexistent.txt'\n"
          ]
        }
      ]
    }
  ]
}